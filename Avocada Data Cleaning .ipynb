{
 "cells": [
  {
   "cell_type": "code",
   "execution_count": 1,
   "metadata": {},
   "outputs": [],
   "source": [
    "import pandas as pd\n",
    "import calendar"
   ]
  },
  {
   "cell_type": "code",
   "execution_count": 2,
   "metadata": {},
   "outputs": [],
   "source": [
    "avocado_2015_to_2017 = pd.read_csv('datasets/avocado.csv' , index_col = 0)\n",
    "avocado_2018 = pd.read_csv('datasets/2018-plu-total-hab-data.csv')\n",
    "avocado_2019 = pd.read_csv('datasets/2019-plu-total-hab-data.csv')\n",
    "avocado_2020 = pd.read_csv('datasets/2020-plu-total-hab-data.csv')"
   ]
  },
  {
   "cell_type": "code",
   "execution_count": 3,
   "metadata": {},
   "outputs": [
    {
     "data": {
      "text/html": [
       "<div>\n",
       "<style scoped>\n",
       "    .dataframe tbody tr th:only-of-type {\n",
       "        vertical-align: middle;\n",
       "    }\n",
       "\n",
       "    .dataframe tbody tr th {\n",
       "        vertical-align: top;\n",
       "    }\n",
       "\n",
       "    .dataframe thead th {\n",
       "        text-align: right;\n",
       "    }\n",
       "</style>\n",
       "<table border=\"1\" class=\"dataframe\">\n",
       "  <thead>\n",
       "    <tr style=\"text-align: right;\">\n",
       "      <th></th>\n",
       "      <th>Date</th>\n",
       "      <th>AveragePrice</th>\n",
       "      <th>Total Volume</th>\n",
       "      <th>4046</th>\n",
       "      <th>4225</th>\n",
       "      <th>4770</th>\n",
       "      <th>Total Bags</th>\n",
       "      <th>Small Bags</th>\n",
       "      <th>Large Bags</th>\n",
       "      <th>XLarge Bags</th>\n",
       "      <th>type</th>\n",
       "      <th>year</th>\n",
       "      <th>region</th>\n",
       "    </tr>\n",
       "  </thead>\n",
       "  <tbody>\n",
       "    <tr>\n",
       "      <th>0</th>\n",
       "      <td>2015-12-27</td>\n",
       "      <td>1.33</td>\n",
       "      <td>64236.62</td>\n",
       "      <td>1036.74</td>\n",
       "      <td>54454.85</td>\n",
       "      <td>48.16</td>\n",
       "      <td>8696.87</td>\n",
       "      <td>8603.62</td>\n",
       "      <td>93.25</td>\n",
       "      <td>0.0</td>\n",
       "      <td>conventional</td>\n",
       "      <td>2015</td>\n",
       "      <td>Albany</td>\n",
       "    </tr>\n",
       "    <tr>\n",
       "      <th>1</th>\n",
       "      <td>2015-12-20</td>\n",
       "      <td>1.35</td>\n",
       "      <td>54876.98</td>\n",
       "      <td>674.28</td>\n",
       "      <td>44638.81</td>\n",
       "      <td>58.33</td>\n",
       "      <td>9505.56</td>\n",
       "      <td>9408.07</td>\n",
       "      <td>97.49</td>\n",
       "      <td>0.0</td>\n",
       "      <td>conventional</td>\n",
       "      <td>2015</td>\n",
       "      <td>Albany</td>\n",
       "    </tr>\n",
       "    <tr>\n",
       "      <th>2</th>\n",
       "      <td>2015-12-13</td>\n",
       "      <td>0.93</td>\n",
       "      <td>118220.22</td>\n",
       "      <td>794.70</td>\n",
       "      <td>109149.67</td>\n",
       "      <td>130.50</td>\n",
       "      <td>8145.35</td>\n",
       "      <td>8042.21</td>\n",
       "      <td>103.14</td>\n",
       "      <td>0.0</td>\n",
       "      <td>conventional</td>\n",
       "      <td>2015</td>\n",
       "      <td>Albany</td>\n",
       "    </tr>\n",
       "    <tr>\n",
       "      <th>3</th>\n",
       "      <td>2015-12-06</td>\n",
       "      <td>1.08</td>\n",
       "      <td>78992.15</td>\n",
       "      <td>1132.00</td>\n",
       "      <td>71976.41</td>\n",
       "      <td>72.58</td>\n",
       "      <td>5811.16</td>\n",
       "      <td>5677.40</td>\n",
       "      <td>133.76</td>\n",
       "      <td>0.0</td>\n",
       "      <td>conventional</td>\n",
       "      <td>2015</td>\n",
       "      <td>Albany</td>\n",
       "    </tr>\n",
       "    <tr>\n",
       "      <th>4</th>\n",
       "      <td>2015-11-29</td>\n",
       "      <td>1.28</td>\n",
       "      <td>51039.60</td>\n",
       "      <td>941.48</td>\n",
       "      <td>43838.39</td>\n",
       "      <td>75.78</td>\n",
       "      <td>6183.95</td>\n",
       "      <td>5986.26</td>\n",
       "      <td>197.69</td>\n",
       "      <td>0.0</td>\n",
       "      <td>conventional</td>\n",
       "      <td>2015</td>\n",
       "      <td>Albany</td>\n",
       "    </tr>\n",
       "  </tbody>\n",
       "</table>\n",
       "</div>"
      ],
      "text/plain": [
       "         Date  AveragePrice  Total Volume     4046       4225    4770  \\\n",
       "0  2015-12-27          1.33      64236.62  1036.74   54454.85   48.16   \n",
       "1  2015-12-20          1.35      54876.98   674.28   44638.81   58.33   \n",
       "2  2015-12-13          0.93     118220.22   794.70  109149.67  130.50   \n",
       "3  2015-12-06          1.08      78992.15  1132.00   71976.41   72.58   \n",
       "4  2015-11-29          1.28      51039.60   941.48   43838.39   75.78   \n",
       "\n",
       "   Total Bags  Small Bags  Large Bags  XLarge Bags          type  year  region  \n",
       "0     8696.87     8603.62       93.25          0.0  conventional  2015  Albany  \n",
       "1     9505.56     9408.07       97.49          0.0  conventional  2015  Albany  \n",
       "2     8145.35     8042.21      103.14          0.0  conventional  2015  Albany  \n",
       "3     5811.16     5677.40      133.76          0.0  conventional  2015  Albany  \n",
       "4     6183.95     5986.26      197.69          0.0  conventional  2015  Albany  "
      ]
     },
     "execution_count": 3,
     "metadata": {},
     "output_type": "execute_result"
    }
   ],
   "source": [
    "avocado_2015_to_2017.head(5)"
   ]
  },
  {
   "cell_type": "code",
   "execution_count": 4,
   "metadata": {
    "scrolled": true
   },
   "outputs": [
    {
     "data": {
      "text/html": [
       "<div>\n",
       "<style scoped>\n",
       "    .dataframe tbody tr th:only-of-type {\n",
       "        vertical-align: middle;\n",
       "    }\n",
       "\n",
       "    .dataframe tbody tr th {\n",
       "        vertical-align: top;\n",
       "    }\n",
       "\n",
       "    .dataframe thead th {\n",
       "        text-align: right;\n",
       "    }\n",
       "</style>\n",
       "<table border=\"1\" class=\"dataframe\">\n",
       "  <thead>\n",
       "    <tr style=\"text-align: right;\">\n",
       "      <th></th>\n",
       "      <th>Geography</th>\n",
       "      <th>Timeframe</th>\n",
       "      <th>Current Year Week Ending</th>\n",
       "      <th>Type</th>\n",
       "      <th>ASP Current Year</th>\n",
       "      <th>Total Bulk and Bags Units</th>\n",
       "      <th>4046 Units</th>\n",
       "      <th>4225 Units</th>\n",
       "      <th>4770 Units</th>\n",
       "      <th>TotalBagged Units</th>\n",
       "      <th>SmlBagged Units</th>\n",
       "      <th>LrgBagged Units</th>\n",
       "      <th>X-LrgBagged Units</th>\n",
       "    </tr>\n",
       "  </thead>\n",
       "  <tbody>\n",
       "    <tr>\n",
       "      <th>0</th>\n",
       "      <td>Albany</td>\n",
       "      <td>Weekly</td>\n",
       "      <td>2018-01-01 00:00:00</td>\n",
       "      <td>Conventional</td>\n",
       "      <td>1.47</td>\n",
       "      <td>113514.42</td>\n",
       "      <td>2622.70</td>\n",
       "      <td>101135.53</td>\n",
       "      <td>20.25</td>\n",
       "      <td>9735.94</td>\n",
       "      <td>5556.98</td>\n",
       "      <td>4178.96</td>\n",
       "      <td>0.00</td>\n",
       "    </tr>\n",
       "    <tr>\n",
       "      <th>1</th>\n",
       "      <td>Atlanta</td>\n",
       "      <td>Weekly</td>\n",
       "      <td>2018-01-01 00:00:00</td>\n",
       "      <td>Conventional</td>\n",
       "      <td>0.95</td>\n",
       "      <td>649352.59</td>\n",
       "      <td>341061.46</td>\n",
       "      <td>41818.27</td>\n",
       "      <td>961.18</td>\n",
       "      <td>265511.68</td>\n",
       "      <td>173990.02</td>\n",
       "      <td>88882.27</td>\n",
       "      <td>2639.39</td>\n",
       "    </tr>\n",
       "    <tr>\n",
       "      <th>2</th>\n",
       "      <td>Baltimore/Washington</td>\n",
       "      <td>Weekly</td>\n",
       "      <td>2018-01-01 00:00:00</td>\n",
       "      <td>Conventional</td>\n",
       "      <td>1.15</td>\n",
       "      <td>849487.62</td>\n",
       "      <td>66628.66</td>\n",
       "      <td>519460.20</td>\n",
       "      <td>4920.46</td>\n",
       "      <td>258478.30</td>\n",
       "      <td>245665.84</td>\n",
       "      <td>12812.46</td>\n",
       "      <td>0.00</td>\n",
       "    </tr>\n",
       "    <tr>\n",
       "      <th>3</th>\n",
       "      <td>Boise</td>\n",
       "      <td>Weekly</td>\n",
       "      <td>2018-01-01 00:00:00</td>\n",
       "      <td>Conventional</td>\n",
       "      <td>1.13</td>\n",
       "      <td>79646.97</td>\n",
       "      <td>38196.44</td>\n",
       "      <td>1706.22</td>\n",
       "      <td>6263.00</td>\n",
       "      <td>33481.31</td>\n",
       "      <td>28764.84</td>\n",
       "      <td>4676.67</td>\n",
       "      <td>39.80</td>\n",
       "    </tr>\n",
       "    <tr>\n",
       "      <th>4</th>\n",
       "      <td>Boston</td>\n",
       "      <td>Weekly</td>\n",
       "      <td>2018-01-01 00:00:00</td>\n",
       "      <td>Conventional</td>\n",
       "      <td>1.40</td>\n",
       "      <td>419696.59</td>\n",
       "      <td>9622.52</td>\n",
       "      <td>325398.02</td>\n",
       "      <td>2061.91</td>\n",
       "      <td>82614.14</td>\n",
       "      <td>65868.23</td>\n",
       "      <td>16745.91</td>\n",
       "      <td>0.00</td>\n",
       "    </tr>\n",
       "  </tbody>\n",
       "</table>\n",
       "</div>"
      ],
      "text/plain": [
       "              Geography Timeframe Current Year Week Ending          Type  \\\n",
       "0                Albany    Weekly      2018-01-01 00:00:00  Conventional   \n",
       "1               Atlanta    Weekly      2018-01-01 00:00:00  Conventional   \n",
       "2  Baltimore/Washington    Weekly      2018-01-01 00:00:00  Conventional   \n",
       "3                 Boise    Weekly      2018-01-01 00:00:00  Conventional   \n",
       "4                Boston    Weekly      2018-01-01 00:00:00  Conventional   \n",
       "\n",
       "   ASP Current Year  Total Bulk and Bags Units  4046 Units  4225 Units  \\\n",
       "0              1.47                  113514.42     2622.70   101135.53   \n",
       "1              0.95                  649352.59   341061.46    41818.27   \n",
       "2              1.15                  849487.62    66628.66   519460.20   \n",
       "3              1.13                   79646.97    38196.44     1706.22   \n",
       "4              1.40                  419696.59     9622.52   325398.02   \n",
       "\n",
       "   4770 Units  TotalBagged Units  SmlBagged Units  LrgBagged Units  \\\n",
       "0       20.25            9735.94          5556.98          4178.96   \n",
       "1      961.18          265511.68        173990.02         88882.27   \n",
       "2     4920.46          258478.30        245665.84         12812.46   \n",
       "3     6263.00           33481.31         28764.84          4676.67   \n",
       "4     2061.91           82614.14         65868.23         16745.91   \n",
       "\n",
       "   X-LrgBagged Units  \n",
       "0               0.00  \n",
       "1            2639.39  \n",
       "2               0.00  \n",
       "3              39.80  \n",
       "4               0.00  "
      ]
     },
     "execution_count": 4,
     "metadata": {},
     "output_type": "execute_result"
    }
   ],
   "source": [
    "avocado_2018.head(5)"
   ]
  },
  {
   "cell_type": "code",
   "execution_count": 5,
   "metadata": {
    "scrolled": true
   },
   "outputs": [
    {
     "data": {
      "text/html": [
       "<div>\n",
       "<style scoped>\n",
       "    .dataframe tbody tr th:only-of-type {\n",
       "        vertical-align: middle;\n",
       "    }\n",
       "\n",
       "    .dataframe tbody tr th {\n",
       "        vertical-align: top;\n",
       "    }\n",
       "\n",
       "    .dataframe thead th {\n",
       "        text-align: right;\n",
       "    }\n",
       "</style>\n",
       "<table border=\"1\" class=\"dataframe\">\n",
       "  <thead>\n",
       "    <tr style=\"text-align: right;\">\n",
       "      <th></th>\n",
       "      <th>Geography</th>\n",
       "      <th>Timeframe</th>\n",
       "      <th>Current Year Week Ending</th>\n",
       "      <th>Type</th>\n",
       "      <th>ASP Current Year</th>\n",
       "      <th>Total Bulk and Bags Units</th>\n",
       "      <th>4046 Units</th>\n",
       "      <th>4225 Units</th>\n",
       "      <th>4770 Units</th>\n",
       "      <th>TotalBagged Units</th>\n",
       "      <th>SmlBagged Units</th>\n",
       "      <th>LrgBagged Units</th>\n",
       "      <th>X-LrgBagged Units</th>\n",
       "    </tr>\n",
       "  </thead>\n",
       "  <tbody>\n",
       "    <tr>\n",
       "      <th>0</th>\n",
       "      <td>Total U.S.</td>\n",
       "      <td>Weekly</td>\n",
       "      <td>2019-01-07 00:00:00</td>\n",
       "      <td>Conventional</td>\n",
       "      <td>1.02</td>\n",
       "      <td>44749707.48</td>\n",
       "      <td>14377053.08</td>\n",
       "      <td>11890232.90</td>\n",
       "      <td>893721.10</td>\n",
       "      <td>17588700.40</td>\n",
       "      <td>12829493.40</td>\n",
       "      <td>4617813.55</td>\n",
       "      <td>141393.45</td>\n",
       "    </tr>\n",
       "    <tr>\n",
       "      <th>1</th>\n",
       "      <td>Albany</td>\n",
       "      <td>Weekly</td>\n",
       "      <td>2019-01-07 00:00:00</td>\n",
       "      <td>Conventional</td>\n",
       "      <td>1.07</td>\n",
       "      <td>129222.29</td>\n",
       "      <td>3789.30</td>\n",
       "      <td>112635.18</td>\n",
       "      <td>158.00</td>\n",
       "      <td>12639.81</td>\n",
       "      <td>8877.95</td>\n",
       "      <td>3761.86</td>\n",
       "      <td>0.00</td>\n",
       "    </tr>\n",
       "    <tr>\n",
       "      <th>2</th>\n",
       "      <td>Atlanta</td>\n",
       "      <td>Weekly</td>\n",
       "      <td>2019-01-07 00:00:00</td>\n",
       "      <td>Conventional</td>\n",
       "      <td>0.92</td>\n",
       "      <td>828971.15</td>\n",
       "      <td>388574.98</td>\n",
       "      <td>38902.85</td>\n",
       "      <td>3482.04</td>\n",
       "      <td>398011.28</td>\n",
       "      <td>299475.26</td>\n",
       "      <td>98477.41</td>\n",
       "      <td>58.61</td>\n",
       "    </tr>\n",
       "    <tr>\n",
       "      <th>3</th>\n",
       "      <td>Baltimore/Washington</td>\n",
       "      <td>Weekly</td>\n",
       "      <td>2019-01-07 00:00:00</td>\n",
       "      <td>Conventional</td>\n",
       "      <td>1.31</td>\n",
       "      <td>925391.38</td>\n",
       "      <td>102652.85</td>\n",
       "      <td>530128.43</td>\n",
       "      <td>8212.94</td>\n",
       "      <td>284397.16</td>\n",
       "      <td>263150.78</td>\n",
       "      <td>21233.05</td>\n",
       "      <td>13.33</td>\n",
       "    </tr>\n",
       "    <tr>\n",
       "      <th>4</th>\n",
       "      <td>Boise</td>\n",
       "      <td>Weekly</td>\n",
       "      <td>2019-01-07 00:00:00</td>\n",
       "      <td>Conventional</td>\n",
       "      <td>1.23</td>\n",
       "      <td>108261.98</td>\n",
       "      <td>43723.19</td>\n",
       "      <td>7085.86</td>\n",
       "      <td>14435.46</td>\n",
       "      <td>43017.47</td>\n",
       "      <td>23932.54</td>\n",
       "      <td>19049.95</td>\n",
       "      <td>34.98</td>\n",
       "    </tr>\n",
       "  </tbody>\n",
       "</table>\n",
       "</div>"
      ],
      "text/plain": [
       "              Geography Timeframe Current Year Week Ending          Type  \\\n",
       "0            Total U.S.    Weekly      2019-01-07 00:00:00  Conventional   \n",
       "1                Albany    Weekly      2019-01-07 00:00:00  Conventional   \n",
       "2               Atlanta    Weekly      2019-01-07 00:00:00  Conventional   \n",
       "3  Baltimore/Washington    Weekly      2019-01-07 00:00:00  Conventional   \n",
       "4                 Boise    Weekly      2019-01-07 00:00:00  Conventional   \n",
       "\n",
       "   ASP Current Year  Total Bulk and Bags Units   4046 Units   4225 Units  \\\n",
       "0              1.02                44749707.48  14377053.08  11890232.90   \n",
       "1              1.07                  129222.29      3789.30    112635.18   \n",
       "2              0.92                  828971.15    388574.98     38902.85   \n",
       "3              1.31                  925391.38    102652.85    530128.43   \n",
       "4              1.23                  108261.98     43723.19      7085.86   \n",
       "\n",
       "   4770 Units  TotalBagged Units  SmlBagged Units  LrgBagged Units  \\\n",
       "0   893721.10        17588700.40      12829493.40       4617813.55   \n",
       "1      158.00           12639.81          8877.95          3761.86   \n",
       "2     3482.04          398011.28        299475.26         98477.41   \n",
       "3     8212.94          284397.16        263150.78         21233.05   \n",
       "4    14435.46           43017.47         23932.54         19049.95   \n",
       "\n",
       "   X-LrgBagged Units  \n",
       "0          141393.45  \n",
       "1               0.00  \n",
       "2              58.61  \n",
       "3              13.33  \n",
       "4              34.98  "
      ]
     },
     "execution_count": 5,
     "metadata": {},
     "output_type": "execute_result"
    }
   ],
   "source": [
    "avocado_2019.head(5)"
   ]
  },
  {
   "cell_type": "code",
   "execution_count": 6,
   "metadata": {
    "scrolled": true
   },
   "outputs": [
    {
     "data": {
      "text/html": [
       "<div>\n",
       "<style scoped>\n",
       "    .dataframe tbody tr th:only-of-type {\n",
       "        vertical-align: middle;\n",
       "    }\n",
       "\n",
       "    .dataframe tbody tr th {\n",
       "        vertical-align: top;\n",
       "    }\n",
       "\n",
       "    .dataframe thead th {\n",
       "        text-align: right;\n",
       "    }\n",
       "</style>\n",
       "<table border=\"1\" class=\"dataframe\">\n",
       "  <thead>\n",
       "    <tr style=\"text-align: right;\">\n",
       "      <th></th>\n",
       "      <th>Geography</th>\n",
       "      <th>Timeframe</th>\n",
       "      <th>Current Year Week Ending</th>\n",
       "      <th>Type</th>\n",
       "      <th>ASP Current Year</th>\n",
       "      <th>Total Bulk and Bags Units</th>\n",
       "      <th>4046 Units</th>\n",
       "      <th>4225 Units</th>\n",
       "      <th>4770 Units</th>\n",
       "      <th>TotalBagged Units</th>\n",
       "      <th>SmlBagged Units</th>\n",
       "      <th>LrgBagged Units</th>\n",
       "      <th>X-LrgBagged Units</th>\n",
       "    </tr>\n",
       "  </thead>\n",
       "  <tbody>\n",
       "    <tr>\n",
       "      <th>0</th>\n",
       "      <td>Albany</td>\n",
       "      <td>Weekly</td>\n",
       "      <td>2020-01-06 00:00:00</td>\n",
       "      <td>Conventional</td>\n",
       "      <td>0.92</td>\n",
       "      <td>185688.43</td>\n",
       "      <td>4038.61</td>\n",
       "      <td>163629.86</td>\n",
       "      <td>193.31</td>\n",
       "      <td>17826.65</td>\n",
       "      <td>7098.37</td>\n",
       "      <td>9384.95</td>\n",
       "      <td>1343.33</td>\n",
       "    </tr>\n",
       "    <tr>\n",
       "      <th>1</th>\n",
       "      <td>Atlanta</td>\n",
       "      <td>Weekly</td>\n",
       "      <td>2020-01-06 00:00:00</td>\n",
       "      <td>Conventional</td>\n",
       "      <td>0.89</td>\n",
       "      <td>812755.45</td>\n",
       "      <td>355460.73</td>\n",
       "      <td>37303.12</td>\n",
       "      <td>2905.78</td>\n",
       "      <td>417085.82</td>\n",
       "      <td>371318.63</td>\n",
       "      <td>45627.67</td>\n",
       "      <td>139.52</td>\n",
       "    </tr>\n",
       "    <tr>\n",
       "      <th>2</th>\n",
       "      <td>Baltimore/Washington</td>\n",
       "      <td>Weekly</td>\n",
       "      <td>2020-01-06 00:00:00</td>\n",
       "      <td>Conventional</td>\n",
       "      <td>1.13</td>\n",
       "      <td>1040583.36</td>\n",
       "      <td>120288.69</td>\n",
       "      <td>522244.65</td>\n",
       "      <td>6213.88</td>\n",
       "      <td>391836.14</td>\n",
       "      <td>239052.24</td>\n",
       "      <td>152663.90</td>\n",
       "      <td>120.00</td>\n",
       "    </tr>\n",
       "    <tr>\n",
       "      <th>3</th>\n",
       "      <td>Boise</td>\n",
       "      <td>Weekly</td>\n",
       "      <td>2020-01-06 00:00:00</td>\n",
       "      <td>Conventional</td>\n",
       "      <td>1.09</td>\n",
       "      <td>121921.10</td>\n",
       "      <td>35816.52</td>\n",
       "      <td>8749.59</td>\n",
       "      <td>1834.52</td>\n",
       "      <td>75520.47</td>\n",
       "      <td>39530.82</td>\n",
       "      <td>31962.59</td>\n",
       "      <td>4027.06</td>\n",
       "    </tr>\n",
       "    <tr>\n",
       "      <th>4</th>\n",
       "      <td>Boston</td>\n",
       "      <td>Weekly</td>\n",
       "      <td>2020-01-06 00:00:00</td>\n",
       "      <td>Conventional</td>\n",
       "      <td>1.18</td>\n",
       "      <td>762475.92</td>\n",
       "      <td>11242.17</td>\n",
       "      <td>494342.34</td>\n",
       "      <td>1486.19</td>\n",
       "      <td>255405.22</td>\n",
       "      <td>110420.12</td>\n",
       "      <td>144661.77</td>\n",
       "      <td>323.33</td>\n",
       "    </tr>\n",
       "  </tbody>\n",
       "</table>\n",
       "</div>"
      ],
      "text/plain": [
       "              Geography Timeframe Current Year Week Ending           Type  \\\n",
       "0                Albany    Weekly      2020-01-06 00:00:00  Conventional    \n",
       "1               Atlanta    Weekly      2020-01-06 00:00:00  Conventional    \n",
       "2  Baltimore/Washington    Weekly      2020-01-06 00:00:00  Conventional    \n",
       "3                 Boise    Weekly      2020-01-06 00:00:00  Conventional    \n",
       "4                Boston    Weekly      2020-01-06 00:00:00  Conventional    \n",
       "\n",
       "   ASP Current Year  Total Bulk and Bags Units  4046 Units  4225 Units  \\\n",
       "0              0.92                  185688.43     4038.61   163629.86   \n",
       "1              0.89                  812755.45   355460.73    37303.12   \n",
       "2              1.13                 1040583.36   120288.69   522244.65   \n",
       "3              1.09                  121921.10    35816.52     8749.59   \n",
       "4              1.18                  762475.92    11242.17   494342.34   \n",
       "\n",
       "   4770 Units  TotalBagged Units  SmlBagged Units  LrgBagged Units  \\\n",
       "0      193.31           17826.65          7098.37          9384.95   \n",
       "1     2905.78          417085.82        371318.63         45627.67   \n",
       "2     6213.88          391836.14        239052.24        152663.90   \n",
       "3     1834.52           75520.47         39530.82         31962.59   \n",
       "4     1486.19          255405.22        110420.12        144661.77   \n",
       "\n",
       "   X-LrgBagged Units  \n",
       "0            1343.33  \n",
       "1             139.52  \n",
       "2             120.00  \n",
       "3            4027.06  \n",
       "4             323.33  "
      ]
     },
     "execution_count": 6,
     "metadata": {},
     "output_type": "execute_result"
    }
   ],
   "source": [
    "avocado_2020.head(5)"
   ]
  },
  {
   "cell_type": "markdown",
   "metadata": {},
   "source": [
    "### Index problem finxing and data cleaning"
   ]
  },
  {
   "cell_type": "code",
   "execution_count": 7,
   "metadata": {},
   "outputs": [],
   "source": [
    "avocado_2015_to_2017 = avocado_2015_to_2017.sort_values(\"Date\")\n",
    "avocado_2015_to_2017.reset_index(inplace=True)\n",
    "del avocado_2015_to_2017['index']"
   ]
  },
  {
   "cell_type": "code",
   "execution_count": 8,
   "metadata": {},
   "outputs": [],
   "source": [
    "avocado_2015_to_2017 = avocado_2015_to_2017[avocado_2015_to_2017.year != 2018]"
   ]
  },
  {
   "cell_type": "code",
   "execution_count": 9,
   "metadata": {},
   "outputs": [],
   "source": [
    "avocado_2018.drop(['Timeframe'], inplace=True,  axis = 1)\n",
    "avocado_2019.drop(['Timeframe'], inplace=True,  axis = 1)\n",
    "avocado_2020.drop(['Timeframe'], inplace=True,  axis = 1)"
   ]
  },
  {
   "cell_type": "markdown",
   "metadata": {},
   "source": [
    "### Renaming Columns "
   ]
  },
  {
   "cell_type": "code",
   "execution_count": 10,
   "metadata": {},
   "outputs": [],
   "source": [
    "avocado_2015_to_2017.rename(columns = {'region':'Region' , 'type':'Type' , 'year':'Year'} , inplace = True)"
   ]
  },
  {
   "cell_type": "code",
   "execution_count": 11,
   "metadata": {},
   "outputs": [],
   "source": [
    "avocado_2018.rename(columns = {'Geography':'Region', 'Current Year Week Ending':'Date', 'Type':'Type', 'ASP Current Year':'AveragePrice',\n",
    "       'Total Bulk and Bags Units':'Total Volume', '4046 Units':'4046', '4225 Units':'4225',\n",
    "       '4770 Units':'4770', 'TotalBagged Units':'Total Bags', 'SmlBagged Units':'Small Bags',\n",
    "       'LrgBagged Units':'Large Bags', 'X-LrgBagged Units':'XLarge Bags'}, inplace = True)"
   ]
  },
  {
   "cell_type": "code",
   "execution_count": 12,
   "metadata": {},
   "outputs": [],
   "source": [
    "avocado_2019.rename(columns = {'Geography':'Region', 'Current Year Week Ending':'Date', 'Type':'Type', 'ASP Current Year':'AveragePrice',\n",
    "       'Total Bulk and Bags Units':'Total Volume', '4046 Units':'4046', '4225 Units':'4225',\n",
    "       '4770 Units':'4770', 'TotalBagged Units':'Total Bags', 'SmlBagged Units':'Small Bags',\n",
    "       'LrgBagged Units':'Large Bags', 'X-LrgBagged Units':'XLarge Bags'}, inplace = True)"
   ]
  },
  {
   "cell_type": "code",
   "execution_count": 13,
   "metadata": {},
   "outputs": [],
   "source": [
    "avocado_2020.rename(columns = {'Geography':'Region', 'Current Year Week Ending':'Date', 'Type':'Type', 'ASP Current Year':'AveragePrice',\n",
    "       'Total Bulk and Bags Units':'Total Volume', '4046 Units':'4046', '4225 Units':'4225',\n",
    "       '4770 Units':'4770', 'TotalBagged Units':'Total Bags', 'SmlBagged Units':'Small Bags',\n",
    "       'LrgBagged Units':'Large Bags', 'X-LrgBagged Units':'XLarge Bags'}, inplace = True)"
   ]
  },
  {
   "cell_type": "markdown",
   "metadata": {},
   "source": [
    "### \" Year \" And \" Month \" columns adding"
   ]
  },
  {
   "cell_type": "code",
   "execution_count": 14,
   "metadata": {},
   "outputs": [],
   "source": [
    "avocado_2015_to_2017['str_split'] = avocado_2015_to_2017.Date.str.split('-')\n",
    "avocado_2015_to_2017['Month'] = avocado_2015_to_2017.str_split.str.get(1)\n",
    "avocado_2015_to_2017.drop(['Date' , 'str_split'] , axis = 1 , inplace=True)"
   ]
  },
  {
   "cell_type": "code",
   "execution_count": 15,
   "metadata": {},
   "outputs": [
    {
     "data": {
      "text/html": [
       "<div>\n",
       "<style scoped>\n",
       "    .dataframe tbody tr th:only-of-type {\n",
       "        vertical-align: middle;\n",
       "    }\n",
       "\n",
       "    .dataframe tbody tr th {\n",
       "        vertical-align: top;\n",
       "    }\n",
       "\n",
       "    .dataframe thead th {\n",
       "        text-align: right;\n",
       "    }\n",
       "</style>\n",
       "<table border=\"1\" class=\"dataframe\">\n",
       "  <thead>\n",
       "    <tr style=\"text-align: right;\">\n",
       "      <th></th>\n",
       "      <th>AveragePrice</th>\n",
       "      <th>Total Volume</th>\n",
       "      <th>4046</th>\n",
       "      <th>4225</th>\n",
       "      <th>4770</th>\n",
       "      <th>Total Bags</th>\n",
       "      <th>Small Bags</th>\n",
       "      <th>Large Bags</th>\n",
       "      <th>XLarge Bags</th>\n",
       "      <th>Type</th>\n",
       "      <th>Year</th>\n",
       "      <th>Region</th>\n",
       "      <th>Month</th>\n",
       "    </tr>\n",
       "  </thead>\n",
       "  <tbody>\n",
       "    <tr>\n",
       "      <th>0</th>\n",
       "      <td>1.75</td>\n",
       "      <td>27365.89</td>\n",
       "      <td>9307.34</td>\n",
       "      <td>3844.81</td>\n",
       "      <td>615.28</td>\n",
       "      <td>13598.46</td>\n",
       "      <td>13061.10</td>\n",
       "      <td>537.36</td>\n",
       "      <td>0.0</td>\n",
       "      <td>organic</td>\n",
       "      <td>2015</td>\n",
       "      <td>Southeast</td>\n",
       "      <td>01</td>\n",
       "    </tr>\n",
       "    <tr>\n",
       "      <th>1</th>\n",
       "      <td>1.49</td>\n",
       "      <td>17723.17</td>\n",
       "      <td>1189.35</td>\n",
       "      <td>15628.27</td>\n",
       "      <td>0.00</td>\n",
       "      <td>905.55</td>\n",
       "      <td>905.55</td>\n",
       "      <td>0.00</td>\n",
       "      <td>0.0</td>\n",
       "      <td>organic</td>\n",
       "      <td>2015</td>\n",
       "      <td>Chicago</td>\n",
       "      <td>01</td>\n",
       "    </tr>\n",
       "    <tr>\n",
       "      <th>2</th>\n",
       "      <td>1.68</td>\n",
       "      <td>2896.72</td>\n",
       "      <td>161.68</td>\n",
       "      <td>206.96</td>\n",
       "      <td>0.00</td>\n",
       "      <td>2528.08</td>\n",
       "      <td>2528.08</td>\n",
       "      <td>0.00</td>\n",
       "      <td>0.0</td>\n",
       "      <td>organic</td>\n",
       "      <td>2015</td>\n",
       "      <td>HarrisburgScranton</td>\n",
       "      <td>01</td>\n",
       "    </tr>\n",
       "    <tr>\n",
       "      <th>3</th>\n",
       "      <td>1.52</td>\n",
       "      <td>54956.80</td>\n",
       "      <td>3013.04</td>\n",
       "      <td>35456.88</td>\n",
       "      <td>1561.70</td>\n",
       "      <td>14925.18</td>\n",
       "      <td>11264.80</td>\n",
       "      <td>3660.38</td>\n",
       "      <td>0.0</td>\n",
       "      <td>conventional</td>\n",
       "      <td>2015</td>\n",
       "      <td>Pittsburgh</td>\n",
       "      <td>01</td>\n",
       "    </tr>\n",
       "    <tr>\n",
       "      <th>4</th>\n",
       "      <td>1.64</td>\n",
       "      <td>1505.12</td>\n",
       "      <td>1.27</td>\n",
       "      <td>1129.50</td>\n",
       "      <td>0.00</td>\n",
       "      <td>374.35</td>\n",
       "      <td>186.67</td>\n",
       "      <td>187.68</td>\n",
       "      <td>0.0</td>\n",
       "      <td>organic</td>\n",
       "      <td>2015</td>\n",
       "      <td>Boise</td>\n",
       "      <td>01</td>\n",
       "    </tr>\n",
       "  </tbody>\n",
       "</table>\n",
       "</div>"
      ],
      "text/plain": [
       "   AveragePrice  Total Volume     4046      4225     4770  Total Bags  \\\n",
       "0          1.75      27365.89  9307.34   3844.81   615.28    13598.46   \n",
       "1          1.49      17723.17  1189.35  15628.27     0.00      905.55   \n",
       "2          1.68       2896.72   161.68    206.96     0.00     2528.08   \n",
       "3          1.52      54956.80  3013.04  35456.88  1561.70    14925.18   \n",
       "4          1.64       1505.12     1.27   1129.50     0.00      374.35   \n",
       "\n",
       "   Small Bags  Large Bags  XLarge Bags          Type  Year  \\\n",
       "0    13061.10      537.36          0.0       organic  2015   \n",
       "1      905.55        0.00          0.0       organic  2015   \n",
       "2     2528.08        0.00          0.0       organic  2015   \n",
       "3    11264.80     3660.38          0.0  conventional  2015   \n",
       "4      186.67      187.68          0.0       organic  2015   \n",
       "\n",
       "               Region Month  \n",
       "0           Southeast    01  \n",
       "1             Chicago    01  \n",
       "2  HarrisburgScranton    01  \n",
       "3          Pittsburgh    01  \n",
       "4               Boise    01  "
      ]
     },
     "execution_count": 15,
     "metadata": {},
     "output_type": "execute_result"
    }
   ],
   "source": [
    "avocado_2015_to_2017.head()"
   ]
  },
  {
   "cell_type": "code",
   "execution_count": 16,
   "metadata": {},
   "outputs": [],
   "source": [
    "avocado_2018['str_split'] = avocado_2018.Date.str.split(' ')\n",
    "avocado_2018['Date'] = avocado_2018.str_split.str.get(0)\n",
    "avocado_2018['str_split'] = avocado_2018.Date.str.split('-')\n",
    "avocado_2018['Year'] = avocado_2018.str_split.str.get(0)\n",
    "avocado_2018['Month'] = avocado_2018.str_split.str.get(1)\n",
    "avocado_2018.drop(['Date' , 'str_split'] , axis = 1 , inplace=True)"
   ]
  },
  {
   "cell_type": "code",
   "execution_count": 17,
   "metadata": {},
   "outputs": [
    {
     "data": {
      "text/html": [
       "<div>\n",
       "<style scoped>\n",
       "    .dataframe tbody tr th:only-of-type {\n",
       "        vertical-align: middle;\n",
       "    }\n",
       "\n",
       "    .dataframe tbody tr th {\n",
       "        vertical-align: top;\n",
       "    }\n",
       "\n",
       "    .dataframe thead th {\n",
       "        text-align: right;\n",
       "    }\n",
       "</style>\n",
       "<table border=\"1\" class=\"dataframe\">\n",
       "  <thead>\n",
       "    <tr style=\"text-align: right;\">\n",
       "      <th></th>\n",
       "      <th>Region</th>\n",
       "      <th>Type</th>\n",
       "      <th>AveragePrice</th>\n",
       "      <th>Total Volume</th>\n",
       "      <th>4046</th>\n",
       "      <th>4225</th>\n",
       "      <th>4770</th>\n",
       "      <th>Total Bags</th>\n",
       "      <th>Small Bags</th>\n",
       "      <th>Large Bags</th>\n",
       "      <th>XLarge Bags</th>\n",
       "      <th>Year</th>\n",
       "      <th>Month</th>\n",
       "    </tr>\n",
       "  </thead>\n",
       "  <tbody>\n",
       "    <tr>\n",
       "      <th>0</th>\n",
       "      <td>Albany</td>\n",
       "      <td>Conventional</td>\n",
       "      <td>1.47</td>\n",
       "      <td>113514.42</td>\n",
       "      <td>2622.70</td>\n",
       "      <td>101135.53</td>\n",
       "      <td>20.25</td>\n",
       "      <td>9735.94</td>\n",
       "      <td>5556.98</td>\n",
       "      <td>4178.96</td>\n",
       "      <td>0.00</td>\n",
       "      <td>2018</td>\n",
       "      <td>01</td>\n",
       "    </tr>\n",
       "    <tr>\n",
       "      <th>1</th>\n",
       "      <td>Atlanta</td>\n",
       "      <td>Conventional</td>\n",
       "      <td>0.95</td>\n",
       "      <td>649352.59</td>\n",
       "      <td>341061.46</td>\n",
       "      <td>41818.27</td>\n",
       "      <td>961.18</td>\n",
       "      <td>265511.68</td>\n",
       "      <td>173990.02</td>\n",
       "      <td>88882.27</td>\n",
       "      <td>2639.39</td>\n",
       "      <td>2018</td>\n",
       "      <td>01</td>\n",
       "    </tr>\n",
       "    <tr>\n",
       "      <th>2</th>\n",
       "      <td>Baltimore/Washington</td>\n",
       "      <td>Conventional</td>\n",
       "      <td>1.15</td>\n",
       "      <td>849487.62</td>\n",
       "      <td>66628.66</td>\n",
       "      <td>519460.20</td>\n",
       "      <td>4920.46</td>\n",
       "      <td>258478.30</td>\n",
       "      <td>245665.84</td>\n",
       "      <td>12812.46</td>\n",
       "      <td>0.00</td>\n",
       "      <td>2018</td>\n",
       "      <td>01</td>\n",
       "    </tr>\n",
       "    <tr>\n",
       "      <th>3</th>\n",
       "      <td>Boise</td>\n",
       "      <td>Conventional</td>\n",
       "      <td>1.13</td>\n",
       "      <td>79646.97</td>\n",
       "      <td>38196.44</td>\n",
       "      <td>1706.22</td>\n",
       "      <td>6263.00</td>\n",
       "      <td>33481.31</td>\n",
       "      <td>28764.84</td>\n",
       "      <td>4676.67</td>\n",
       "      <td>39.80</td>\n",
       "      <td>2018</td>\n",
       "      <td>01</td>\n",
       "    </tr>\n",
       "    <tr>\n",
       "      <th>4</th>\n",
       "      <td>Boston</td>\n",
       "      <td>Conventional</td>\n",
       "      <td>1.40</td>\n",
       "      <td>419696.59</td>\n",
       "      <td>9622.52</td>\n",
       "      <td>325398.02</td>\n",
       "      <td>2061.91</td>\n",
       "      <td>82614.14</td>\n",
       "      <td>65868.23</td>\n",
       "      <td>16745.91</td>\n",
       "      <td>0.00</td>\n",
       "      <td>2018</td>\n",
       "      <td>01</td>\n",
       "    </tr>\n",
       "  </tbody>\n",
       "</table>\n",
       "</div>"
      ],
      "text/plain": [
       "                 Region          Type  AveragePrice  Total Volume       4046  \\\n",
       "0                Albany  Conventional          1.47     113514.42    2622.70   \n",
       "1               Atlanta  Conventional          0.95     649352.59  341061.46   \n",
       "2  Baltimore/Washington  Conventional          1.15     849487.62   66628.66   \n",
       "3                 Boise  Conventional          1.13      79646.97   38196.44   \n",
       "4                Boston  Conventional          1.40     419696.59    9622.52   \n",
       "\n",
       "        4225     4770  Total Bags  Small Bags  Large Bags  XLarge Bags  Year  \\\n",
       "0  101135.53    20.25     9735.94     5556.98     4178.96         0.00  2018   \n",
       "1   41818.27   961.18   265511.68   173990.02    88882.27      2639.39  2018   \n",
       "2  519460.20  4920.46   258478.30   245665.84    12812.46         0.00  2018   \n",
       "3    1706.22  6263.00    33481.31    28764.84     4676.67        39.80  2018   \n",
       "4  325398.02  2061.91    82614.14    65868.23    16745.91         0.00  2018   \n",
       "\n",
       "  Month  \n",
       "0    01  \n",
       "1    01  \n",
       "2    01  \n",
       "3    01  \n",
       "4    01  "
      ]
     },
     "execution_count": 17,
     "metadata": {},
     "output_type": "execute_result"
    }
   ],
   "source": [
    "avocado_2018.head()"
   ]
  },
  {
   "cell_type": "code",
   "execution_count": 18,
   "metadata": {},
   "outputs": [],
   "source": [
    "avocado_2019['str_split'] = avocado_2019.Date.str.split(' ')\n",
    "avocado_2019['Date'] = avocado_2019.str_split.str.get(0)\n",
    "avocado_2019['str_split'] = avocado_2019.Date.str.split('-')\n",
    "avocado_2019['Year'] = avocado_2019.str_split.str.get(0)\n",
    "avocado_2019['Month'] = avocado_2019.str_split.str.get(1)\n",
    "avocado_2019.drop(['Date' , 'str_split'] , axis = 1 , inplace=True)"
   ]
  },
  {
   "cell_type": "code",
   "execution_count": 19,
   "metadata": {},
   "outputs": [
    {
     "data": {
      "text/html": [
       "<div>\n",
       "<style scoped>\n",
       "    .dataframe tbody tr th:only-of-type {\n",
       "        vertical-align: middle;\n",
       "    }\n",
       "\n",
       "    .dataframe tbody tr th {\n",
       "        vertical-align: top;\n",
       "    }\n",
       "\n",
       "    .dataframe thead th {\n",
       "        text-align: right;\n",
       "    }\n",
       "</style>\n",
       "<table border=\"1\" class=\"dataframe\">\n",
       "  <thead>\n",
       "    <tr style=\"text-align: right;\">\n",
       "      <th></th>\n",
       "      <th>Region</th>\n",
       "      <th>Type</th>\n",
       "      <th>AveragePrice</th>\n",
       "      <th>Total Volume</th>\n",
       "      <th>4046</th>\n",
       "      <th>4225</th>\n",
       "      <th>4770</th>\n",
       "      <th>Total Bags</th>\n",
       "      <th>Small Bags</th>\n",
       "      <th>Large Bags</th>\n",
       "      <th>XLarge Bags</th>\n",
       "      <th>Year</th>\n",
       "      <th>Month</th>\n",
       "    </tr>\n",
       "  </thead>\n",
       "  <tbody>\n",
       "    <tr>\n",
       "      <th>0</th>\n",
       "      <td>Total U.S.</td>\n",
       "      <td>Conventional</td>\n",
       "      <td>1.02</td>\n",
       "      <td>44749707.48</td>\n",
       "      <td>14377053.08</td>\n",
       "      <td>11890232.90</td>\n",
       "      <td>893721.10</td>\n",
       "      <td>17588700.40</td>\n",
       "      <td>12829493.40</td>\n",
       "      <td>4617813.55</td>\n",
       "      <td>141393.45</td>\n",
       "      <td>2019</td>\n",
       "      <td>01</td>\n",
       "    </tr>\n",
       "    <tr>\n",
       "      <th>1</th>\n",
       "      <td>Albany</td>\n",
       "      <td>Conventional</td>\n",
       "      <td>1.07</td>\n",
       "      <td>129222.29</td>\n",
       "      <td>3789.30</td>\n",
       "      <td>112635.18</td>\n",
       "      <td>158.00</td>\n",
       "      <td>12639.81</td>\n",
       "      <td>8877.95</td>\n",
       "      <td>3761.86</td>\n",
       "      <td>0.00</td>\n",
       "      <td>2019</td>\n",
       "      <td>01</td>\n",
       "    </tr>\n",
       "    <tr>\n",
       "      <th>2</th>\n",
       "      <td>Atlanta</td>\n",
       "      <td>Conventional</td>\n",
       "      <td>0.92</td>\n",
       "      <td>828971.15</td>\n",
       "      <td>388574.98</td>\n",
       "      <td>38902.85</td>\n",
       "      <td>3482.04</td>\n",
       "      <td>398011.28</td>\n",
       "      <td>299475.26</td>\n",
       "      <td>98477.41</td>\n",
       "      <td>58.61</td>\n",
       "      <td>2019</td>\n",
       "      <td>01</td>\n",
       "    </tr>\n",
       "    <tr>\n",
       "      <th>3</th>\n",
       "      <td>Baltimore/Washington</td>\n",
       "      <td>Conventional</td>\n",
       "      <td>1.31</td>\n",
       "      <td>925391.38</td>\n",
       "      <td>102652.85</td>\n",
       "      <td>530128.43</td>\n",
       "      <td>8212.94</td>\n",
       "      <td>284397.16</td>\n",
       "      <td>263150.78</td>\n",
       "      <td>21233.05</td>\n",
       "      <td>13.33</td>\n",
       "      <td>2019</td>\n",
       "      <td>01</td>\n",
       "    </tr>\n",
       "    <tr>\n",
       "      <th>4</th>\n",
       "      <td>Boise</td>\n",
       "      <td>Conventional</td>\n",
       "      <td>1.23</td>\n",
       "      <td>108261.98</td>\n",
       "      <td>43723.19</td>\n",
       "      <td>7085.86</td>\n",
       "      <td>14435.46</td>\n",
       "      <td>43017.47</td>\n",
       "      <td>23932.54</td>\n",
       "      <td>19049.95</td>\n",
       "      <td>34.98</td>\n",
       "      <td>2019</td>\n",
       "      <td>01</td>\n",
       "    </tr>\n",
       "  </tbody>\n",
       "</table>\n",
       "</div>"
      ],
      "text/plain": [
       "                 Region          Type  AveragePrice  Total Volume  \\\n",
       "0            Total U.S.  Conventional          1.02   44749707.48   \n",
       "1                Albany  Conventional          1.07     129222.29   \n",
       "2               Atlanta  Conventional          0.92     828971.15   \n",
       "3  Baltimore/Washington  Conventional          1.31     925391.38   \n",
       "4                 Boise  Conventional          1.23     108261.98   \n",
       "\n",
       "          4046         4225       4770   Total Bags   Small Bags  Large Bags  \\\n",
       "0  14377053.08  11890232.90  893721.10  17588700.40  12829493.40  4617813.55   \n",
       "1      3789.30    112635.18     158.00     12639.81      8877.95     3761.86   \n",
       "2    388574.98     38902.85    3482.04    398011.28    299475.26    98477.41   \n",
       "3    102652.85    530128.43    8212.94    284397.16    263150.78    21233.05   \n",
       "4     43723.19      7085.86   14435.46     43017.47     23932.54    19049.95   \n",
       "\n",
       "   XLarge Bags  Year Month  \n",
       "0    141393.45  2019    01  \n",
       "1         0.00  2019    01  \n",
       "2        58.61  2019    01  \n",
       "3        13.33  2019    01  \n",
       "4        34.98  2019    01  "
      ]
     },
     "execution_count": 19,
     "metadata": {},
     "output_type": "execute_result"
    }
   ],
   "source": [
    "avocado_2019.head()"
   ]
  },
  {
   "cell_type": "code",
   "execution_count": 20,
   "metadata": {},
   "outputs": [],
   "source": [
    "avocado_2020['str_split'] = avocado_2020.Date.str.split(' ')\n",
    "avocado_2020['Date'] = avocado_2020.str_split.str.get(0)\n",
    "avocado_2020['str_split'] = avocado_2020.Date.str.split('-')\n",
    "avocado_2020['Year'] = avocado_2020.str_split.str.get(0)\n",
    "avocado_2020['Month'] = avocado_2020.str_split.str.get(1)\n",
    "avocado_2020.drop(['Date' , 'str_split'] , axis = 1 , inplace=True)"
   ]
  },
  {
   "cell_type": "code",
   "execution_count": 21,
   "metadata": {},
   "outputs": [
    {
     "data": {
      "text/html": [
       "<div>\n",
       "<style scoped>\n",
       "    .dataframe tbody tr th:only-of-type {\n",
       "        vertical-align: middle;\n",
       "    }\n",
       "\n",
       "    .dataframe tbody tr th {\n",
       "        vertical-align: top;\n",
       "    }\n",
       "\n",
       "    .dataframe thead th {\n",
       "        text-align: right;\n",
       "    }\n",
       "</style>\n",
       "<table border=\"1\" class=\"dataframe\">\n",
       "  <thead>\n",
       "    <tr style=\"text-align: right;\">\n",
       "      <th></th>\n",
       "      <th>Region</th>\n",
       "      <th>Type</th>\n",
       "      <th>AveragePrice</th>\n",
       "      <th>Total Volume</th>\n",
       "      <th>4046</th>\n",
       "      <th>4225</th>\n",
       "      <th>4770</th>\n",
       "      <th>Total Bags</th>\n",
       "      <th>Small Bags</th>\n",
       "      <th>Large Bags</th>\n",
       "      <th>XLarge Bags</th>\n",
       "      <th>Year</th>\n",
       "      <th>Month</th>\n",
       "    </tr>\n",
       "  </thead>\n",
       "  <tbody>\n",
       "    <tr>\n",
       "      <th>0</th>\n",
       "      <td>Albany</td>\n",
       "      <td>Conventional</td>\n",
       "      <td>0.92</td>\n",
       "      <td>185688.43</td>\n",
       "      <td>4038.61</td>\n",
       "      <td>163629.86</td>\n",
       "      <td>193.31</td>\n",
       "      <td>17826.65</td>\n",
       "      <td>7098.37</td>\n",
       "      <td>9384.95</td>\n",
       "      <td>1343.33</td>\n",
       "      <td>2020</td>\n",
       "      <td>01</td>\n",
       "    </tr>\n",
       "    <tr>\n",
       "      <th>1</th>\n",
       "      <td>Atlanta</td>\n",
       "      <td>Conventional</td>\n",
       "      <td>0.89</td>\n",
       "      <td>812755.45</td>\n",
       "      <td>355460.73</td>\n",
       "      <td>37303.12</td>\n",
       "      <td>2905.78</td>\n",
       "      <td>417085.82</td>\n",
       "      <td>371318.63</td>\n",
       "      <td>45627.67</td>\n",
       "      <td>139.52</td>\n",
       "      <td>2020</td>\n",
       "      <td>01</td>\n",
       "    </tr>\n",
       "    <tr>\n",
       "      <th>2</th>\n",
       "      <td>Baltimore/Washington</td>\n",
       "      <td>Conventional</td>\n",
       "      <td>1.13</td>\n",
       "      <td>1040583.36</td>\n",
       "      <td>120288.69</td>\n",
       "      <td>522244.65</td>\n",
       "      <td>6213.88</td>\n",
       "      <td>391836.14</td>\n",
       "      <td>239052.24</td>\n",
       "      <td>152663.90</td>\n",
       "      <td>120.00</td>\n",
       "      <td>2020</td>\n",
       "      <td>01</td>\n",
       "    </tr>\n",
       "    <tr>\n",
       "      <th>3</th>\n",
       "      <td>Boise</td>\n",
       "      <td>Conventional</td>\n",
       "      <td>1.09</td>\n",
       "      <td>121921.10</td>\n",
       "      <td>35816.52</td>\n",
       "      <td>8749.59</td>\n",
       "      <td>1834.52</td>\n",
       "      <td>75520.47</td>\n",
       "      <td>39530.82</td>\n",
       "      <td>31962.59</td>\n",
       "      <td>4027.06</td>\n",
       "      <td>2020</td>\n",
       "      <td>01</td>\n",
       "    </tr>\n",
       "    <tr>\n",
       "      <th>4</th>\n",
       "      <td>Boston</td>\n",
       "      <td>Conventional</td>\n",
       "      <td>1.18</td>\n",
       "      <td>762475.92</td>\n",
       "      <td>11242.17</td>\n",
       "      <td>494342.34</td>\n",
       "      <td>1486.19</td>\n",
       "      <td>255405.22</td>\n",
       "      <td>110420.12</td>\n",
       "      <td>144661.77</td>\n",
       "      <td>323.33</td>\n",
       "      <td>2020</td>\n",
       "      <td>01</td>\n",
       "    </tr>\n",
       "  </tbody>\n",
       "</table>\n",
       "</div>"
      ],
      "text/plain": [
       "                 Region           Type  AveragePrice  Total Volume       4046  \\\n",
       "0                Albany  Conventional           0.92     185688.43    4038.61   \n",
       "1               Atlanta  Conventional           0.89     812755.45  355460.73   \n",
       "2  Baltimore/Washington  Conventional           1.13    1040583.36  120288.69   \n",
       "3                 Boise  Conventional           1.09     121921.10   35816.52   \n",
       "4                Boston  Conventional           1.18     762475.92   11242.17   \n",
       "\n",
       "        4225     4770  Total Bags  Small Bags  Large Bags  XLarge Bags  Year  \\\n",
       "0  163629.86   193.31    17826.65     7098.37     9384.95      1343.33  2020   \n",
       "1   37303.12  2905.78   417085.82   371318.63    45627.67       139.52  2020   \n",
       "2  522244.65  6213.88   391836.14   239052.24   152663.90       120.00  2020   \n",
       "3    8749.59  1834.52    75520.47    39530.82    31962.59      4027.06  2020   \n",
       "4  494342.34  1486.19   255405.22   110420.12   144661.77       323.33  2020   \n",
       "\n",
       "  Month  \n",
       "0    01  \n",
       "1    01  \n",
       "2    01  \n",
       "3    01  \n",
       "4    01  "
      ]
     },
     "execution_count": 21,
     "metadata": {},
     "output_type": "execute_result"
    }
   ],
   "source": [
    "avocado_2020.head()"
   ]
  },
  {
   "cell_type": "markdown",
   "metadata": {},
   "source": [
    "### \" Year \" And \" Month \" columns value casting"
   ]
  },
  {
   "cell_type": "code",
   "execution_count": 22,
   "metadata": {},
   "outputs": [],
   "source": [
    "avocado_2015_to_2017['Month'] = avocado_2015_to_2017['Month'].astype('int64')"
   ]
  },
  {
   "cell_type": "code",
   "execution_count": 23,
   "metadata": {},
   "outputs": [
    {
     "name": "stdout",
     "output_type": "stream",
     "text": [
      "<class 'pandas.core.frame.DataFrame'>\n",
      "Int64Index: 16953 entries, 0 to 16952\n",
      "Data columns (total 13 columns):\n",
      "AveragePrice    16953 non-null float64\n",
      "Total Volume    16953 non-null float64\n",
      "4046            16953 non-null float64\n",
      "4225            16953 non-null float64\n",
      "4770            16953 non-null float64\n",
      "Total Bags      16953 non-null float64\n",
      "Small Bags      16953 non-null float64\n",
      "Large Bags      16953 non-null float64\n",
      "XLarge Bags     16953 non-null float64\n",
      "Type            16953 non-null object\n",
      "Year            16953 non-null int64\n",
      "Region          16953 non-null object\n",
      "Month           16953 non-null int64\n",
      "dtypes: float64(9), int64(2), object(2)\n",
      "memory usage: 1.8+ MB\n"
     ]
    }
   ],
   "source": [
    "avocado_2015_to_2017.info()"
   ]
  },
  {
   "cell_type": "code",
   "execution_count": 24,
   "metadata": {
    "scrolled": true
   },
   "outputs": [],
   "source": [
    "avocado_2018['Year'] = avocado_2018['Year'].astype('int64')\n",
    "avocado_2018['Month'] = avocado_2018['Month'].astype('int64')"
   ]
  },
  {
   "cell_type": "code",
   "execution_count": 25,
   "metadata": {},
   "outputs": [
    {
     "name": "stdout",
     "output_type": "stream",
     "text": [
      "<class 'pandas.core.frame.DataFrame'>\n",
      "RangeIndex: 5292 entries, 0 to 5291\n",
      "Data columns (total 13 columns):\n",
      "Region          5292 non-null object\n",
      "Type            5292 non-null object\n",
      "AveragePrice    5292 non-null float64\n",
      "Total Volume    5292 non-null float64\n",
      "4046            5292 non-null float64\n",
      "4225            5292 non-null float64\n",
      "4770            5292 non-null float64\n",
      "Total Bags      5292 non-null float64\n",
      "Small Bags      5292 non-null float64\n",
      "Large Bags      5292 non-null float64\n",
      "XLarge Bags     5292 non-null float64\n",
      "Year            5292 non-null int64\n",
      "Month           5292 non-null int64\n",
      "dtypes: float64(9), int64(2), object(2)\n",
      "memory usage: 537.5+ KB\n"
     ]
    }
   ],
   "source": [
    "avocado_2018.info()"
   ]
  },
  {
   "cell_type": "code",
   "execution_count": 26,
   "metadata": {},
   "outputs": [],
   "source": [
    "avocado_2019['Year'] = avocado_2019['Year'].astype('int64')\n",
    "avocado_2019['Month'] = avocado_2019['Month'].astype('int64')"
   ]
  },
  {
   "cell_type": "code",
   "execution_count": 27,
   "metadata": {},
   "outputs": [
    {
     "name": "stdout",
     "output_type": "stream",
     "text": [
      "<class 'pandas.core.frame.DataFrame'>\n",
      "RangeIndex: 5616 entries, 0 to 5615\n",
      "Data columns (total 13 columns):\n",
      "Region          5616 non-null object\n",
      "Type            5616 non-null object\n",
      "AveragePrice    5616 non-null float64\n",
      "Total Volume    5616 non-null float64\n",
      "4046            5616 non-null float64\n",
      "4225            5616 non-null float64\n",
      "4770            5616 non-null float64\n",
      "Total Bags      5616 non-null float64\n",
      "Small Bags      5616 non-null float64\n",
      "Large Bags      5616 non-null float64\n",
      "XLarge Bags     5616 non-null float64\n",
      "Year            5616 non-null int64\n",
      "Month           5616 non-null int64\n",
      "dtypes: float64(9), int64(2), object(2)\n",
      "memory usage: 570.4+ KB\n"
     ]
    }
   ],
   "source": [
    "avocado_2019.info()"
   ]
  },
  {
   "cell_type": "code",
   "execution_count": 28,
   "metadata": {},
   "outputs": [],
   "source": [
    "avocado_2020['Year'] = avocado_2020['Year'].astype('int64')\n",
    "avocado_2020['Month'] = avocado_2020['Month'].astype('int64')"
   ]
  },
  {
   "cell_type": "code",
   "execution_count": 29,
   "metadata": {},
   "outputs": [
    {
     "name": "stdout",
     "output_type": "stream",
     "text": [
      "<class 'pandas.core.frame.DataFrame'>\n",
      "RangeIndex: 1728 entries, 0 to 1727\n",
      "Data columns (total 13 columns):\n",
      "Region          1728 non-null object\n",
      "Type            1728 non-null object\n",
      "AveragePrice    1728 non-null float64\n",
      "Total Volume    1728 non-null float64\n",
      "4046            1728 non-null float64\n",
      "4225            1728 non-null float64\n",
      "4770            1728 non-null float64\n",
      "Total Bags      1728 non-null float64\n",
      "Small Bags      1728 non-null float64\n",
      "Large Bags      1728 non-null float64\n",
      "XLarge Bags     1728 non-null float64\n",
      "Year            1728 non-null int64\n",
      "Month           1728 non-null int64\n",
      "dtypes: float64(9), int64(2), object(2)\n",
      "memory usage: 175.6+ KB\n"
     ]
    }
   ],
   "source": [
    "avocado_2020.info()"
   ]
  },
  {
   "cell_type": "code",
   "execution_count": 30,
   "metadata": {},
   "outputs": [],
   "source": [
    "avocado_2015_to_2017['Month'] = avocado_2015_to_2017['Month'].apply(lambda x: calendar.month_abbr[x])\n",
    "avocado_2018['Month'] = avocado_2018['Month'].apply(lambda x: calendar.month_abbr[x])\n",
    "avocado_2019['Month'] = avocado_2019['Month'].apply(lambda x: calendar.month_abbr[x])\n",
    "avocado_2020['Month'] = avocado_2020['Month'].apply(lambda x: calendar.month_abbr[x])"
   ]
  },
  {
   "cell_type": "markdown",
   "metadata": {},
   "source": [
    "### Fix \" Type \" column values"
   ]
  },
  {
   "cell_type": "code",
   "execution_count": 31,
   "metadata": {},
   "outputs": [
    {
     "data": {
      "text/plain": [
       "conventional    8478\n",
       "organic         8475\n",
       "Name: Type, dtype: int64"
      ]
     },
     "execution_count": 31,
     "metadata": {},
     "output_type": "execute_result"
    }
   ],
   "source": [
    "avocado_2015_to_2017['Type'].value_counts()"
   ]
  },
  {
   "cell_type": "code",
   "execution_count": 32,
   "metadata": {},
   "outputs": [],
   "source": [
    "avocado_2015_to_2017['Type'] = avocado_2015_to_2017.Type.str.title()"
   ]
  },
  {
   "cell_type": "code",
   "execution_count": 33,
   "metadata": {
    "scrolled": true
   },
   "outputs": [
    {
     "data": {
      "text/plain": [
       "Conventional    8478\n",
       "Organic         8475\n",
       "Name: Type, dtype: int64"
      ]
     },
     "execution_count": 33,
     "metadata": {},
     "output_type": "execute_result"
    }
   ],
   "source": [
    "avocado_2015_to_2017['Type'].value_counts()"
   ]
  },
  {
   "cell_type": "code",
   "execution_count": 34,
   "metadata": {},
   "outputs": [
    {
     "data": {
      "text/plain": [
       "Organic         2646\n",
       "Conventional    2646\n",
       "Name: Type, dtype: int64"
      ]
     },
     "execution_count": 34,
     "metadata": {},
     "output_type": "execute_result"
    }
   ],
   "source": [
    "# 2018 is correct\n",
    "avocado_2018['Type'].value_counts()"
   ]
  },
  {
   "cell_type": "code",
   "execution_count": 35,
   "metadata": {},
   "outputs": [
    {
     "data": {
      "text/plain": [
       "Organic          2808\n",
       "Conventional     2160\n",
       "Conventional      648\n",
       "Name: Type, dtype: int64"
      ]
     },
     "execution_count": 35,
     "metadata": {},
     "output_type": "execute_result"
    }
   ],
   "source": [
    "avocado_2019['Type'].value_counts()"
   ]
  },
  {
   "cell_type": "code",
   "execution_count": 36,
   "metadata": {},
   "outputs": [],
   "source": [
    "avocado_2019['Type'] = avocado_2019.Type.str.replace(' ' , '')"
   ]
  },
  {
   "cell_type": "code",
   "execution_count": 37,
   "metadata": {},
   "outputs": [
    {
     "data": {
      "text/plain": [
       "Organic         2808\n",
       "Conventional    2808\n",
       "Name: Type, dtype: int64"
      ]
     },
     "execution_count": 37,
     "metadata": {},
     "output_type": "execute_result"
    }
   ],
   "source": [
    "avocado_2019['Type'].value_counts()"
   ]
  },
  {
   "cell_type": "code",
   "execution_count": 38,
   "metadata": {},
   "outputs": [
    {
     "data": {
      "text/plain": [
       "Organic          864\n",
       "Conventional     864\n",
       "Name: Type, dtype: int64"
      ]
     },
     "execution_count": 38,
     "metadata": {},
     "output_type": "execute_result"
    }
   ],
   "source": [
    "# 2020 is correct\n",
    "avocado_2020['Type'].value_counts()"
   ]
  },
  {
   "cell_type": "markdown",
   "metadata": {},
   "source": [
    "### Fix \" Region \" column value"
   ]
  },
  {
   "cell_type": "code",
   "execution_count": 39,
   "metadata": {},
   "outputs": [
    {
     "data": {
      "text/plain": [
       "array(['Southeast', 'Chicago', 'HarrisburgScranton', 'Pittsburgh',\n",
       "       'Boise', 'WestTexNewMexico', 'LosAngeles', 'LasVegas', 'Atlanta',\n",
       "       'DallasFtWorth', 'MiamiFtLauderdale', 'Plains', 'StLouis',\n",
       "       'Syracuse', 'Midsouth', 'Sacramento', 'Boston', 'Charlotte',\n",
       "       'Spokane', 'Albany', 'Houston', 'SouthCarolina', 'SanFrancisco',\n",
       "       'TotalUS', 'RaleighGreensboro', 'BuffaloRochester',\n",
       "       'NorthernNewEngland', 'GrandRapids', 'Denver', 'SanDiego',\n",
       "       'BaltimoreWashington', 'Roanoke', 'RichmondNorfolk', 'Northeast',\n",
       "       'SouthCentral', 'GreatLakes', 'Louisville', 'Seattle',\n",
       "       'CincinnatiDayton', 'NewYork', 'NewOrleansMobile', 'Indianapolis',\n",
       "       'Jacksonville', 'Columbus', 'Detroit', 'Philadelphia',\n",
       "       'PhoenixTucson', 'Nashville', 'Portland', 'HartfordSpringfield',\n",
       "       'Tampa', 'Orlando', 'West', 'California'], dtype=object)"
      ]
     },
     "execution_count": 39,
     "metadata": {},
     "output_type": "execute_result"
    }
   ],
   "source": [
    "avocado_2015_to_2017['Region'].unique()"
   ]
  },
  {
   "cell_type": "code",
   "execution_count": 40,
   "metadata": {},
   "outputs": [
    {
     "data": {
      "text/plain": [
       "array(['Albany', 'Atlanta', 'Baltimore/Washington', 'Boise', 'Boston',\n",
       "       'Buffalo/Rochester', 'California', 'Charlotte', 'Chicago',\n",
       "       'Cincinnati/Dayton', 'Columbus', 'Dallas/Ft. Worth', 'Denver',\n",
       "       'Detroit', 'Grand Rapids', 'Great Lakes', 'Harrisburg/Scranton',\n",
       "       'Hartford/Springfield', 'Houston', 'Indianapolis', 'Jacksonville',\n",
       "       'Las Vegas', 'Los Angeles', 'Louisville', 'Miami/Ft. Lauderdale',\n",
       "       'Midsouth', 'Nashville', 'New Orleans/Mobile', 'New York',\n",
       "       'Northeast', 'Northern New England', 'Orlando', 'Philadelphia',\n",
       "       'Phoenix/Tucson', 'Pittsburgh', 'Plains', 'Portland',\n",
       "       'Raleigh/Greensboro', 'Richmond/Norfolk', 'Roanoke', 'Sacramento',\n",
       "       'San Diego', 'San Francisco', 'Seattle', 'South Carolina',\n",
       "       'South Central', 'Southeast', 'Spokane', 'St. Louis', 'Syracuse',\n",
       "       'Tampa', 'West', 'West Tex/New Mexico', 'Total U.S.'], dtype=object)"
      ]
     },
     "execution_count": 40,
     "metadata": {},
     "output_type": "execute_result"
    }
   ],
   "source": [
    "avocado_2018['Region'].unique()"
   ]
  },
  {
   "cell_type": "code",
   "execution_count": 41,
   "metadata": {},
   "outputs": [
    {
     "data": {
      "text/plain": [
       "array(['Total U.S.', 'Albany', 'Atlanta', 'Baltimore/Washington', 'Boise',\n",
       "       'Boston', 'Buffalo/Rochester', 'California', 'Charlotte',\n",
       "       'Chicago', 'Cincinnati/Dayton', 'Columbus', 'Dallas/Ft. Worth',\n",
       "       'Denver', 'Detroit', 'Grand Rapids', 'Great Lakes',\n",
       "       'Harrisburg/Scranton', 'Hartford/Springfield', 'Houston',\n",
       "       'Indianapolis', 'Jacksonville', 'Las Vegas', 'Los Angeles',\n",
       "       'Louisville', 'Miami/Ft. Lauderdale', 'Midsouth', 'Nashville',\n",
       "       'New Orleans/Mobile', 'New York', 'Northeast',\n",
       "       'Northern New England', 'Orlando', 'Philadelphia',\n",
       "       'Phoenix/Tucson', 'Pittsburgh', 'Plains', 'Portland',\n",
       "       'Raleigh/Greensboro', 'Richmond/Norfolk', 'Roanoke', 'Sacramento',\n",
       "       'San Diego', 'San Francisco', 'Seattle', 'South Carolina',\n",
       "       'South Central', 'Southeast', 'Spokane', 'St. Louis', 'Syracuse',\n",
       "       'Tampa', 'West', 'West Tex/New Mexico'], dtype=object)"
      ]
     },
     "execution_count": 41,
     "metadata": {},
     "output_type": "execute_result"
    }
   ],
   "source": [
    "avocado_2019['Region'].unique()"
   ]
  },
  {
   "cell_type": "code",
   "execution_count": 42,
   "metadata": {},
   "outputs": [
    {
     "data": {
      "text/plain": [
       "array(['Albany', 'Atlanta', 'Baltimore/Washington', 'Boise', 'Boston',\n",
       "       'Buffalo/Rochester', 'California', 'Charlotte', 'Chicago',\n",
       "       'Cincinnati/Dayton', 'Columbus', 'Dallas/Ft. Worth', 'Denver',\n",
       "       'Detroit', 'Grand Rapids', 'Great Lakes', 'Harrisburg/Scranton',\n",
       "       'Hartford/Springfield', 'Houston', 'Indianapolis', 'Jacksonville',\n",
       "       'Las Vegas', 'Los Angeles', 'Louisville', 'Miami/Ft. Lauderdale',\n",
       "       'Midsouth', 'Nashville', 'New Orleans/Mobile', 'New York',\n",
       "       'Northeast', 'Northern New England', 'Orlando', 'Philadelphia',\n",
       "       'Phoenix/Tucson', 'Pittsburgh', 'Plains', 'Portland',\n",
       "       'Raleigh/Greensboro', 'Richmond/Norfolk', 'Roanoke', 'Sacramento',\n",
       "       'San Diego', 'San Francisco', 'Seattle', 'South Carolina',\n",
       "       'South Central', 'Southeast', 'Spokane', 'St. Louis', 'Syracuse',\n",
       "       'Tampa', 'Total U.S.', 'West', 'West Tex/New Mexico'], dtype=object)"
      ]
     },
     "execution_count": 42,
     "metadata": {},
     "output_type": "execute_result"
    }
   ],
   "source": [
    "avocado_2020['Region'].unique()"
   ]
  },
  {
   "cell_type": "code",
   "execution_count": 43,
   "metadata": {},
   "outputs": [],
   "source": [
    "avocado_2018['Region'] = avocado_2018.Region.str.replace(' ', '')\n",
    "avocado_2018['Region'] = avocado_2018.Region.str.replace('/', '')\n",
    "avocado_2018['Region'] = avocado_2018.Region.str.replace('.', '')"
   ]
  },
  {
   "cell_type": "code",
   "execution_count": 44,
   "metadata": {},
   "outputs": [],
   "source": [
    "avocado_2019['Region'] = avocado_2019.Region.str.replace(' ', '')\n",
    "avocado_2019['Region'] = avocado_2019.Region.str.replace('/', '')\n",
    "avocado_2019['Region'] = avocado_2019.Region.str.replace('.', '')"
   ]
  },
  {
   "cell_type": "code",
   "execution_count": 45,
   "metadata": {},
   "outputs": [],
   "source": [
    "avocado_2020['Region'] = avocado_2020.Region.str.replace(' ', '')\n",
    "avocado_2020['Region'] = avocado_2020.Region.str.replace('/', '')\n",
    "avocado_2020['Region'] = avocado_2020.Region.str.replace('.', '')"
   ]
  },
  {
   "cell_type": "code",
   "execution_count": 46,
   "metadata": {},
   "outputs": [
    {
     "data": {
      "text/plain": [
       "array(['Southeast', 'Chicago', 'HarrisburgScranton', 'Pittsburgh',\n",
       "       'Boise', 'WestTexNewMexico', 'LosAngeles', 'LasVegas', 'Atlanta',\n",
       "       'DallasFtWorth', 'MiamiFtLauderdale', 'Plains', 'StLouis',\n",
       "       'Syracuse', 'Midsouth', 'Sacramento', 'Boston', 'Charlotte',\n",
       "       'Spokane', 'Albany', 'Houston', 'SouthCarolina', 'SanFrancisco',\n",
       "       'TotalUS', 'RaleighGreensboro', 'BuffaloRochester',\n",
       "       'NorthernNewEngland', 'GrandRapids', 'Denver', 'SanDiego',\n",
       "       'BaltimoreWashington', 'Roanoke', 'RichmondNorfolk', 'Northeast',\n",
       "       'SouthCentral', 'GreatLakes', 'Louisville', 'Seattle',\n",
       "       'CincinnatiDayton', 'NewYork', 'NewOrleansMobile', 'Indianapolis',\n",
       "       'Jacksonville', 'Columbus', 'Detroit', 'Philadelphia',\n",
       "       'PhoenixTucson', 'Nashville', 'Portland', 'HartfordSpringfield',\n",
       "       'Tampa', 'Orlando', 'West', 'California'], dtype=object)"
      ]
     },
     "execution_count": 46,
     "metadata": {},
     "output_type": "execute_result"
    }
   ],
   "source": [
    "avocado_2015_to_2017['Region'].unique()"
   ]
  },
  {
   "cell_type": "code",
   "execution_count": 47,
   "metadata": {},
   "outputs": [
    {
     "data": {
      "text/plain": [
       "array(['Albany', 'Atlanta', 'BaltimoreWashington', 'Boise', 'Boston',\n",
       "       'BuffaloRochester', 'California', 'Charlotte', 'Chicago',\n",
       "       'CincinnatiDayton', 'Columbus', 'DallasFtWorth', 'Denver',\n",
       "       'Detroit', 'GrandRapids', 'GreatLakes', 'HarrisburgScranton',\n",
       "       'HartfordSpringfield', 'Houston', 'Indianapolis', 'Jacksonville',\n",
       "       'LasVegas', 'LosAngeles', 'Louisville', 'MiamiFtLauderdale',\n",
       "       'Midsouth', 'Nashville', 'NewOrleansMobile', 'NewYork',\n",
       "       'Northeast', 'NorthernNewEngland', 'Orlando', 'Philadelphia',\n",
       "       'PhoenixTucson', 'Pittsburgh', 'Plains', 'Portland',\n",
       "       'RaleighGreensboro', 'RichmondNorfolk', 'Roanoke', 'Sacramento',\n",
       "       'SanDiego', 'SanFrancisco', 'Seattle', 'SouthCarolina',\n",
       "       'SouthCentral', 'Southeast', 'Spokane', 'StLouis', 'Syracuse',\n",
       "       'Tampa', 'West', 'WestTexNewMexico', 'TotalUS'], dtype=object)"
      ]
     },
     "execution_count": 47,
     "metadata": {},
     "output_type": "execute_result"
    }
   ],
   "source": [
    "avocado_2018['Region'].unique()"
   ]
  },
  {
   "cell_type": "code",
   "execution_count": 48,
   "metadata": {},
   "outputs": [
    {
     "data": {
      "text/plain": [
       "array(['TotalUS', 'Albany', 'Atlanta', 'BaltimoreWashington', 'Boise',\n",
       "       'Boston', 'BuffaloRochester', 'California', 'Charlotte', 'Chicago',\n",
       "       'CincinnatiDayton', 'Columbus', 'DallasFtWorth', 'Denver',\n",
       "       'Detroit', 'GrandRapids', 'GreatLakes', 'HarrisburgScranton',\n",
       "       'HartfordSpringfield', 'Houston', 'Indianapolis', 'Jacksonville',\n",
       "       'LasVegas', 'LosAngeles', 'Louisville', 'MiamiFtLauderdale',\n",
       "       'Midsouth', 'Nashville', 'NewOrleansMobile', 'NewYork',\n",
       "       'Northeast', 'NorthernNewEngland', 'Orlando', 'Philadelphia',\n",
       "       'PhoenixTucson', 'Pittsburgh', 'Plains', 'Portland',\n",
       "       'RaleighGreensboro', 'RichmondNorfolk', 'Roanoke', 'Sacramento',\n",
       "       'SanDiego', 'SanFrancisco', 'Seattle', 'SouthCarolina',\n",
       "       'SouthCentral', 'Southeast', 'Spokane', 'StLouis', 'Syracuse',\n",
       "       'Tampa', 'West', 'WestTexNewMexico'], dtype=object)"
      ]
     },
     "execution_count": 48,
     "metadata": {},
     "output_type": "execute_result"
    }
   ],
   "source": [
    "avocado_2019['Region'].unique()"
   ]
  },
  {
   "cell_type": "code",
   "execution_count": 49,
   "metadata": {},
   "outputs": [
    {
     "data": {
      "text/plain": [
       "array(['Albany', 'Atlanta', 'BaltimoreWashington', 'Boise', 'Boston',\n",
       "       'BuffaloRochester', 'California', 'Charlotte', 'Chicago',\n",
       "       'CincinnatiDayton', 'Columbus', 'DallasFtWorth', 'Denver',\n",
       "       'Detroit', 'GrandRapids', 'GreatLakes', 'HarrisburgScranton',\n",
       "       'HartfordSpringfield', 'Houston', 'Indianapolis', 'Jacksonville',\n",
       "       'LasVegas', 'LosAngeles', 'Louisville', 'MiamiFtLauderdale',\n",
       "       'Midsouth', 'Nashville', 'NewOrleansMobile', 'NewYork',\n",
       "       'Northeast', 'NorthernNewEngland', 'Orlando', 'Philadelphia',\n",
       "       'PhoenixTucson', 'Pittsburgh', 'Plains', 'Portland',\n",
       "       'RaleighGreensboro', 'RichmondNorfolk', 'Roanoke', 'Sacramento',\n",
       "       'SanDiego', 'SanFrancisco', 'Seattle', 'SouthCarolina',\n",
       "       'SouthCentral', 'Southeast', 'Spokane', 'StLouis', 'Syracuse',\n",
       "       'Tampa', 'TotalUS', 'West', 'WestTexNewMexico'], dtype=object)"
      ]
     },
     "execution_count": 49,
     "metadata": {},
     "output_type": "execute_result"
    }
   ],
   "source": [
    "avocado_2020['Region'].unique()"
   ]
  },
  {
   "cell_type": "markdown",
   "metadata": {},
   "source": [
    "### Concat 4 dataframe together"
   ]
  },
  {
   "cell_type": "code",
   "execution_count": 50,
   "metadata": {},
   "outputs": [],
   "source": [
    "frames = [avocado_2015_to_2017, avocado_2018, avocado_2019 , avocado_2020]"
   ]
  },
  {
   "cell_type": "code",
   "execution_count": 51,
   "metadata": {},
   "outputs": [],
   "source": [
    "avocado_2015_to_2020 = pd.concat(frames , sort = False)"
   ]
  },
  {
   "cell_type": "code",
   "execution_count": 52,
   "metadata": {},
   "outputs": [],
   "source": [
    "avocado_2015_to_2020.reset_index(inplace=True)\n",
    "avocado_2015_to_2020.drop(['index'] , axis = 1, inplace=True)"
   ]
  },
  {
   "cell_type": "code",
   "execution_count": 53,
   "metadata": {},
   "outputs": [],
   "source": [
    "avocado_2015_to_2020['Type'] = avocado_2015_to_2020.Type.str.replace(' ' , '')"
   ]
  },
  {
   "cell_type": "markdown",
   "metadata": {},
   "source": [
    "### Convert dataframe to CSV"
   ]
  },
  {
   "cell_type": "code",
   "execution_count": 54,
   "metadata": {},
   "outputs": [],
   "source": [
    "avocado_2015_to_2020.to_csv('datasets/avocado_2015_to_2020.csv' , index = False)"
   ]
  }
 ],
 "metadata": {
  "kernelspec": {
   "display_name": "Python 3",
   "language": "python",
   "name": "python3"
  },
  "language_info": {
   "codemirror_mode": {
    "name": "ipython",
    "version": 2
   },
   "file_extension": ".py",
   "mimetype": "text/x-python",
   "name": "python",
   "nbconvert_exporter": "python",
   "pygments_lexer": "ipython2",
   "version": "2.7.17"
  }
 },
 "nbformat": 4,
 "nbformat_minor": 2
}
